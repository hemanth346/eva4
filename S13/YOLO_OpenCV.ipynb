{
 "cells": [
  {
   "cell_type": "code",
   "execution_count": 1,
   "metadata": {
    "ExecuteTime": {
     "end_time": "2020-04-26T11:09:00.839561Z",
     "start_time": "2020-04-26T11:09:00.445889Z"
    }
   },
   "outputs": [],
   "source": [
    "import cv2\n",
    "import numpy as np"
   ]
  },
  {
   "cell_type": "code",
   "execution_count": 2,
   "metadata": {
    "ExecuteTime": {
     "end_time": "2020-04-26T11:09:01.846546Z",
     "start_time": "2020-04-26T11:09:00.845549Z"
    }
   },
   "outputs": [],
   "source": [
    "# Load Yolo\n",
    "# https://pjreddie.com/media/files/yolov3.weights\n",
    "# https://github.com/pjreddie/darknet/blob/master/cfg/yolov3.cfg\n",
    "net = cv2.dnn.readNet(\"yolov3.weights\", \"yolov3.cfg\")"
   ]
  },
  {
   "cell_type": "code",
   "execution_count": 3,
   "metadata": {
    "ExecuteTime": {
     "end_time": "2020-04-26T11:09:01.867485Z",
     "start_time": "2020-04-26T11:09:01.853481Z"
    }
   },
   "outputs": [],
   "source": [
    "# https://github.com/pjreddie/darknet/blob/master/data/coco.names\n",
    "# COCO - Common Objects in Context\n",
    "with open(\"coco.names\", \"r\") as f:\n",
    "    classes = [line.strip() for line in f]"
   ]
  },
  {
   "cell_type": "code",
   "execution_count": 4,
   "metadata": {
    "ExecuteTime": {
     "end_time": "2020-04-26T11:09:01.900540Z",
     "start_time": "2020-04-26T11:09:01.889389Z"
    }
   },
   "outputs": [],
   "source": [
    "layer_names = net.getLayerNames()\n",
    "# output layer names\n",
    "output_layers = [layer_names[i[0] - 1] for i in net.getUnconnectedOutLayers()]"
   ]
  },
  {
   "cell_type": "code",
   "execution_count": 5,
   "metadata": {
    "ExecuteTime": {
     "end_time": "2020-04-26T11:09:02.214558Z",
     "start_time": "2020-04-26T11:09:02.075883Z"
    }
   },
   "outputs": [],
   "source": [
    "# Loading image\n",
    "img = cv2.imread(\"yolov3.jpeg\")\n",
    "img = cv2.resize(img, None, fx=0.4, fy=0.4)\n",
    "height, width, channels = img.shape"
   ]
  },
  {
   "cell_type": "code",
   "execution_count": 6,
   "metadata": {
    "ExecuteTime": {
     "end_time": "2020-04-26T11:09:02.954302Z",
     "start_time": "2020-04-26T11:09:02.931358Z"
    }
   },
   "outputs": [],
   "source": [
    "# resizing input images to yolo accepted shapes\n",
    "# Blob it’s used to extract feature from the image and to resize them. \n",
    "\n",
    "blob = cv2.dnn.blobFromImage(img, scalefactor=0.00392, size=(416, 416), mean=(0, 0, 0), swapRB=True, crop=False)\n",
    "\n",
    "# YOLO accepts three sizes:\n",
    "\n",
    "#     320×320 it’s small so less accuracy but better speed\n",
    "#     609×609 it’s bigger so high accuracy and slow speed\n",
    "#     416×416 it’s in the middle and we  get a bit of both."
   ]
  },
  {
   "cell_type": "markdown",
   "metadata": {},
   "source": [
    "**cv2.dnn.blobFromImage Params**\n",
    "\n",
    "1. image\n",
    "  \n",
    " - This is the input image we want to preprocess before passing it through our deep neural network for classification.\n",
    "\n",
    "1. scalefactor\n",
    "\n",
    " - After we perform mean subtraction we can optionally scale our images by some factor. This value defaults to `1.0` (i.e., no scaling) but we can supply another value as well. It’s also important to note that scalefactor\n",
    "      should be 1 / \\sigma as we’re actually multiplying the input channels (after mean subtraction) by scalefactor\n",
    "     .\n",
    "\n",
    "1. size\n",
    "     - Here we supply the spatial size that the Convolutional Neural Network expects. For most current state-of-the-art neural networks this is either 224×224, 227×227, or 299×299.\n",
    "\n",
    "1. mean\n",
    "     - These are our mean subtraction values. They can be a 3-tuple of the RGB means or they can be a single value in which case the supplied value is subtracted from every channel of the image. If you’re performing mean subtraction, ensure you supply the 3-tuple in `(R, G, B)` order, especially when utilizing the default behavior of swapRB=True\n",
    "     .\n",
    "1. swapRB\n",
    "     - OpenCV assumes images are in BGR channel order; however, the `mean` value assumes we are using RGB order. To resolve this discrepancy we can swap the R and B channels in image\n",
    "      by setting this value to `True`. By default OpenCV performs this channel swapping for us.\n",
    "\n",
    "Further reading [refer this](https://www.pyimagesearch.com/2017/11/06/deep-learning-opencvs-blobfromimage-works/\n",
    ")"
   ]
  },
  {
   "cell_type": "code",
   "execution_count": 7,
   "metadata": {
    "ExecuteTime": {
     "end_time": "2020-04-26T11:09:06.260301Z",
     "start_time": "2020-04-26T11:09:04.186091Z"
    }
   },
   "outputs": [],
   "source": [
    "net.setInput(blob)\n",
    "# 3 outputs - small, medium and large objecta detection using 52, 26, 13 blocks respectively\n",
    "outputs = net.forward(output_layers)"
   ]
  },
  {
   "cell_type": "code",
   "execution_count": 8,
   "metadata": {
    "ExecuteTime": {
     "end_time": "2020-04-26T11:09:06.745955Z",
     "start_time": "2020-04-26T11:09:06.333953Z"
    }
   },
   "outputs": [
    {
     "name": "stdout",
     "output_type": "stream",
     "text": [
      "laptop 0.99970794\n",
      "person 0.99936557\n",
      "keyboard 0.8689499\n",
      "chair 0.48856437\n",
      "chair 0.6281692\n",
      "bottle 0.9786397\n",
      "laptop 0.5549331\n",
      "cell phone 0.24328135\n",
      "keyboard 0.91006833\n",
      "book 0.5635614\n",
      "cell phone 0.30302283\n",
      "mouse 0.31213394\n",
      "cell phone 0.3997322\n"
     ]
    }
   ],
   "source": [
    "# Showing informations on the screen\n",
    "class_ids = []\n",
    "confidences = []\n",
    "boxes = []\n",
    "\n",
    "# interating over small, medium and big objects\n",
    "for output in outputs:\n",
    "    for detection in output:\n",
    "        # probabilities of 80 classes \n",
    "        # excluding x, y, h, w, objectiveness\n",
    "        class_prob = detection[5:]\n",
    "        \n",
    "        # selecting single class Id per detection\n",
    "        class_id = np.argmax(class_prob)\n",
    "        class_confidence = class_prob[class_id]\n",
    "\n",
    "        # setting threshold for confidence \n",
    "        if class_confidence > 0.1:\n",
    "            print(classes[class_id], class_confidence)\n",
    "        if class_confidence > 0.5:\n",
    "            # mid_x, mid_y, w, h, \n",
    "            center_x = int(detection[0] * width)\n",
    "            center_y = int(detection[1] * height)\n",
    "            w = int(detection[2] * width)\n",
    "            h = int(detection[3] * height)\n",
    "\n",
    "            # Rectangle coordinates\n",
    "            x = int(center_x - w / 2)\n",
    "            y = int(center_y - h / 2)\n",
    "\n",
    "            boxes.append([x, y, w, h])\n",
    "            confidences.append(float(class_confidence))\n",
    "            class_ids.append(class_id)\n"
   ]
  },
  {
   "cell_type": "code",
   "execution_count": 9,
   "metadata": {
    "ExecuteTime": {
     "end_time": "2020-04-26T11:09:09.741425Z",
     "start_time": "2020-04-26T11:09:09.712501Z"
    }
   },
   "outputs": [],
   "source": [
    "indexes = cv2.dnn.NMSBoxes(bboxes=boxes, scores=confidences, score_threshold=0.1, nms_threshold=0.4)\n",
    "# print(indexes)\n",
    "font = cv2.FONT_HERSHEY_PLAIN\n",
    "\n",
    "# choose unique color for each class\n",
    "colors = np.random.uniform(0, 255, size=(len(classes), 3))\n",
    "\n",
    "#iterate over all boxes and display box if NMS filtered\n",
    "for i in range(len(boxes)):\n",
    "    if i in indexes:\n",
    "        x, y, w, h = boxes[i]\n",
    "        label = str(classes[class_ids[i]])\n",
    "        color = colors[i]\n",
    "        cv2.rectangle(img=img, pt1=(x, y), pt2=(x + w, y + h), color=color, thickness=2)\n",
    "        cv2.putText(img=img, text=label, org=(x, y + 30), fontFace=font, fontScale=2, color=color, thickness=2)\n"
   ]
  },
  {
   "cell_type": "code",
   "execution_count": 10,
   "metadata": {
    "ExecuteTime": {
     "end_time": "2020-04-26T11:09:30.355849Z",
     "start_time": "2020-04-26T11:09:13.603870Z"
    }
   },
   "outputs": [],
   "source": [
    "cv2.imshow(\"Image\", img)\n",
    "cv2.waitKey(0)\n",
    "cv2.destroyAllWindows()"
   ]
  },
  {
   "cell_type": "code",
   "execution_count": 11,
   "metadata": {
    "ExecuteTime": {
     "end_time": "2020-04-26T11:09:33.198068Z",
     "start_time": "2020-04-26T11:09:33.128224Z"
    }
   },
   "outputs": [
    {
     "data": {
      "text/plain": [
       "True"
      ]
     },
     "execution_count": 11,
     "metadata": {},
     "output_type": "execute_result"
    }
   ],
   "source": [
    "cv2.imwrite('yolov3_coco_inference.jpg',img)"
   ]
  },
  {
   "cell_type": "code",
   "execution_count": null,
   "metadata": {},
   "outputs": [],
   "source": []
  }
 ],
 "metadata": {
  "kernelspec": {
   "display_name": "Python [conda env:flask] *",
   "language": "python",
   "name": "conda-env-flask-py"
  },
  "language_info": {
   "codemirror_mode": {
    "name": "ipython",
    "version": 3
   },
   "file_extension": ".py",
   "mimetype": "text/x-python",
   "name": "python",
   "nbconvert_exporter": "python",
   "pygments_lexer": "ipython3",
   "version": "3.6.10"
  },
  "toc": {
   "base_numbering": 1,
   "nav_menu": {},
   "number_sections": true,
   "sideBar": true,
   "skip_h1_title": false,
   "title_cell": "Table of Contents",
   "title_sidebar": "Contents",
   "toc_cell": false,
   "toc_position": {},
   "toc_section_display": true,
   "toc_window_display": false
  },
  "varInspector": {
   "cols": {
    "lenName": 16,
    "lenType": 16,
    "lenVar": 40
   },
   "kernels_config": {
    "python": {
     "delete_cmd_postfix": "",
     "delete_cmd_prefix": "del ",
     "library": "var_list.py",
     "varRefreshCmd": "print(var_dic_list())"
    },
    "r": {
     "delete_cmd_postfix": ") ",
     "delete_cmd_prefix": "rm(",
     "library": "var_list.r",
     "varRefreshCmd": "cat(var_dic_list()) "
    }
   },
   "types_to_exclude": [
    "module",
    "function",
    "builtin_function_or_method",
    "instance",
    "_Feature"
   ],
   "window_display": false
  }
 },
 "nbformat": 4,
 "nbformat_minor": 4
}
