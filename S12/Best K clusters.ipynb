{
 "cells": [
  {
   "cell_type": "code",
   "execution_count": 1,
   "metadata": {
    "ExecuteTime": {
     "end_time": "2020-04-19T15:09:38.520371Z",
     "start_time": "2020-04-19T15:09:37.694579Z"
    }
   },
   "outputs": [
    {
     "name": "stderr",
     "output_type": "stream",
     "text": [
      "A:\\Miniconda\\envs\\tf_gpu\\lib\\site-packages\\sklearn\\utils\\deprecation.py:144: FutureWarning: The sklearn.datasets.samples_generator module is  deprecated in version 0.22 and will be removed in version 0.24. The corresponding classes / functions should instead be imported from sklearn.datasets. Anything that cannot be imported from sklearn.datasets is now part of the private API.\n",
      "  warnings.warn(message, FutureWarning)\n"
     ]
    }
   ],
   "source": [
    "import numpy as np\n",
    "import pandas as pd\n",
    "import json\n",
    "from matplotlib import pyplot as plt\n",
    "from sklearn.datasets.samples_generator import make_blobs\n",
    "from sklearn.cluster import KMeans"
   ]
  },
  {
   "cell_type": "code",
   "execution_count": 2,
   "metadata": {
    "ExecuteTime": {
     "end_time": "2020-04-19T15:09:38.544352Z",
     "start_time": "2020-04-19T15:09:38.538324Z"
    }
   },
   "outputs": [
    {
     "name": "stdout",
     "output_type": "stream",
     "text": [
      "dict_keys(['info', 'images', 'annotations', 'licenses', 'categories'])\n"
     ]
    }
   ],
   "source": [
    "#Read COCO JSON File\n",
    "file = open('./dog_annotations_coco.json')\n",
    "data = json.load(file)\n",
    "print(data.keys())"
   ]
  },
  {
   "cell_type": "code",
   "execution_count": 3,
   "metadata": {
    "ExecuteTime": {
     "end_time": "2020-04-19T15:09:38.572244Z",
     "start_time": "2020-04-19T15:09:38.565253Z"
    }
   },
   "outputs": [],
   "source": [
    "#Extract Details\n",
    "image_details = pd.DataFrame(data['images'], columns = data['images'][0].keys())\n",
    "annotation_details = pd.DataFrame(data['annotations'], columns = data['annotations'][0].keys())"
   ]
  },
  {
   "cell_type": "code",
   "execution_count": 4,
   "metadata": {
    "ExecuteTime": {
     "end_time": "2020-04-19T15:09:38.680943Z",
     "start_time": "2020-04-19T15:09:38.664985Z"
    }
   },
   "outputs": [
    {
     "data": {
      "text/html": [
       "<div>\n",
       "<style scoped>\n",
       "    .dataframe tbody tr th:only-of-type {\n",
       "        vertical-align: middle;\n",
       "    }\n",
       "\n",
       "    .dataframe tbody tr th {\n",
       "        vertical-align: top;\n",
       "    }\n",
       "\n",
       "    .dataframe thead th {\n",
       "        text-align: right;\n",
       "    }\n",
       "</style>\n",
       "<table border=\"1\" class=\"dataframe\">\n",
       "  <thead>\n",
       "    <tr style=\"text-align: right;\">\n",
       "      <th></th>\n",
       "      <th>id</th>\n",
       "      <th>width</th>\n",
       "      <th>height</th>\n",
       "      <th>file_name</th>\n",
       "      <th>license</th>\n",
       "      <th>date_captured</th>\n",
       "    </tr>\n",
       "  </thead>\n",
       "  <tbody>\n",
       "    <tr>\n",
       "      <th>0</th>\n",
       "      <td>0</td>\n",
       "      <td>100</td>\n",
       "      <td>100</td>\n",
       "      <td>2.jpg</td>\n",
       "      <td>1</td>\n",
       "      <td></td>\n",
       "    </tr>\n",
       "    <tr>\n",
       "      <th>1</th>\n",
       "      <td>1</td>\n",
       "      <td>183</td>\n",
       "      <td>234</td>\n",
       "      <td>3.jpg</td>\n",
       "      <td>1</td>\n",
       "      <td></td>\n",
       "    </tr>\n",
       "    <tr>\n",
       "      <th>2</th>\n",
       "      <td>2</td>\n",
       "      <td>231</td>\n",
       "      <td>218</td>\n",
       "      <td>4.jpg</td>\n",
       "      <td>1</td>\n",
       "      <td></td>\n",
       "    </tr>\n",
       "    <tr>\n",
       "      <th>3</th>\n",
       "      <td>3</td>\n",
       "      <td>100</td>\n",
       "      <td>100</td>\n",
       "      <td>5.jpg</td>\n",
       "      <td>1</td>\n",
       "      <td></td>\n",
       "    </tr>\n",
       "    <tr>\n",
       "      <th>4</th>\n",
       "      <td>4</td>\n",
       "      <td>259</td>\n",
       "      <td>194</td>\n",
       "      <td>6.jpg</td>\n",
       "      <td>1</td>\n",
       "      <td></td>\n",
       "    </tr>\n",
       "  </tbody>\n",
       "</table>\n",
       "</div>"
      ],
      "text/plain": [
       "   id  width  height file_name  license date_captured\n",
       "0   0    100     100     2.jpg        1              \n",
       "1   1    183     234     3.jpg        1              \n",
       "2   2    231     218     4.jpg        1              \n",
       "3   3    100     100     5.jpg        1              \n",
       "4   4    259     194     6.jpg        1              "
      ]
     },
     "execution_count": 4,
     "metadata": {},
     "output_type": "execute_result"
    }
   ],
   "source": [
    "image_details.head()"
   ]
  },
  {
   "cell_type": "code",
   "execution_count": 5,
   "metadata": {
    "ExecuteTime": {
     "end_time": "2020-04-19T15:09:38.785662Z",
     "start_time": "2020-04-19T15:09:38.773694Z"
    }
   },
   "outputs": [
    {
     "data": {
      "text/html": [
       "<div>\n",
       "<style scoped>\n",
       "    .dataframe tbody tr th:only-of-type {\n",
       "        vertical-align: middle;\n",
       "    }\n",
       "\n",
       "    .dataframe tbody tr th {\n",
       "        vertical-align: top;\n",
       "    }\n",
       "\n",
       "    .dataframe thead th {\n",
       "        text-align: right;\n",
       "    }\n",
       "</style>\n",
       "<table border=\"1\" class=\"dataframe\">\n",
       "  <thead>\n",
       "    <tr style=\"text-align: right;\">\n",
       "      <th></th>\n",
       "      <th>id</th>\n",
       "      <th>image_id</th>\n",
       "      <th>category_id</th>\n",
       "      <th>segmentation</th>\n",
       "      <th>area</th>\n",
       "      <th>bbox</th>\n",
       "      <th>iscrowd</th>\n",
       "    </tr>\n",
       "  </thead>\n",
       "  <tbody>\n",
       "    <tr>\n",
       "      <th>0</th>\n",
       "      <td>0</td>\n",
       "      <td>0</td>\n",
       "      <td>1</td>\n",
       "      <td>[5, 14, 59, 14, 59, 100, 5, 100]</td>\n",
       "      <td>4644</td>\n",
       "      <td>[5, 14, 54, 86]</td>\n",
       "      <td>0</td>\n",
       "    </tr>\n",
       "    <tr>\n",
       "      <th>1</th>\n",
       "      <td>1</td>\n",
       "      <td>1</td>\n",
       "      <td>1</td>\n",
       "      <td>[22, 6, 172, 6, 172, 229, 22, 229]</td>\n",
       "      <td>33450</td>\n",
       "      <td>[22, 6, 150, 223]</td>\n",
       "      <td>0</td>\n",
       "    </tr>\n",
       "    <tr>\n",
       "      <th>2</th>\n",
       "      <td>2</td>\n",
       "      <td>2</td>\n",
       "      <td>1</td>\n",
       "      <td>[47, 13, 200, 13, 200, 202, 47, 202]</td>\n",
       "      <td>28917</td>\n",
       "      <td>[47, 13, 153, 189]</td>\n",
       "      <td>0</td>\n",
       "    </tr>\n",
       "    <tr>\n",
       "      <th>3</th>\n",
       "      <td>3</td>\n",
       "      <td>3</td>\n",
       "      <td>1</td>\n",
       "      <td>[59, 2, 98, 2, 98, 99, 59, 99]</td>\n",
       "      <td>3783</td>\n",
       "      <td>[59, 2, 39, 97]</td>\n",
       "      <td>0</td>\n",
       "    </tr>\n",
       "    <tr>\n",
       "      <th>4</th>\n",
       "      <td>4</td>\n",
       "      <td>4</td>\n",
       "      <td>1</td>\n",
       "      <td>[46, 10, 253, 10, 253, 189, 46, 189]</td>\n",
       "      <td>37053</td>\n",
       "      <td>[46, 10, 207, 179]</td>\n",
       "      <td>0</td>\n",
       "    </tr>\n",
       "  </tbody>\n",
       "</table>\n",
       "</div>"
      ],
      "text/plain": [
       "   id image_id  category_id                          segmentation   area  \\\n",
       "0   0        0            1      [5, 14, 59, 14, 59, 100, 5, 100]   4644   \n",
       "1   1        1            1    [22, 6, 172, 6, 172, 229, 22, 229]  33450   \n",
       "2   2        2            1  [47, 13, 200, 13, 200, 202, 47, 202]  28917   \n",
       "3   3        3            1        [59, 2, 98, 2, 98, 99, 59, 99]   3783   \n",
       "4   4        4            1  [46, 10, 253, 10, 253, 189, 46, 189]  37053   \n",
       "\n",
       "                 bbox  iscrowd  \n",
       "0     [5, 14, 54, 86]        0  \n",
       "1   [22, 6, 150, 223]        0  \n",
       "2  [47, 13, 153, 189]        0  \n",
       "3     [59, 2, 39, 97]        0  \n",
       "4  [46, 10, 207, 179]        0  "
      ]
     },
     "execution_count": 5,
     "metadata": {},
     "output_type": "execute_result"
    }
   ],
   "source": [
    "annotation_details.head()"
   ]
  },
  {
   "cell_type": "code",
   "execution_count": 6,
   "metadata": {
    "ExecuteTime": {
     "end_time": "2020-04-19T15:09:38.892376Z",
     "start_time": "2020-04-19T15:09:38.874427Z"
    }
   },
   "outputs": [],
   "source": [
    "#Extract the Box Dimensions\n",
    "BBox_df = pd.concat([image_details, annotation_details], 1)[['file_name', 'width', 'height', 'bbox']]\n",
    "x_list = []\n",
    "y_list = []\n",
    "w_list = []\n",
    "h_list = [] \n",
    "for row in range(BBox_df.shape[0]):\n",
    "  x = BBox_df['bbox'][row][0]\n",
    "  y = BBox_df['bbox'][row][1]\n",
    "  w = BBox_df['bbox'][row][2]\n",
    "  h = BBox_df['bbox'][row][3]\n",
    "  x_list.append(x)\n",
    "  y_list.append(y)\n",
    "  w_list.append(w)\n",
    "  h_list.append(h)\n",
    "box_df = pd.DataFrame(list(zip(x_list, y_list, w_list, h_list)), columns =['x', 'y', 'box_width', 'box_height'])\n",
    "BBox_df = pd.concat([BBox_df, box_df], 1)\n",
    "BBox_df = BBox_df.drop('bbox', axis =1)"
   ]
  },
  {
   "cell_type": "code",
   "execution_count": 7,
   "metadata": {
    "ExecuteTime": {
     "end_time": "2020-04-19T15:09:39.048958Z",
     "start_time": "2020-04-19T15:09:39.039983Z"
    }
   },
   "outputs": [
    {
     "data": {
      "text/html": [
       "<div>\n",
       "<style scoped>\n",
       "    .dataframe tbody tr th:only-of-type {\n",
       "        vertical-align: middle;\n",
       "    }\n",
       "\n",
       "    .dataframe tbody tr th {\n",
       "        vertical-align: top;\n",
       "    }\n",
       "\n",
       "    .dataframe thead th {\n",
       "        text-align: right;\n",
       "    }\n",
       "</style>\n",
       "<table border=\"1\" class=\"dataframe\">\n",
       "  <thead>\n",
       "    <tr style=\"text-align: right;\">\n",
       "      <th></th>\n",
       "      <th>file_name</th>\n",
       "      <th>width</th>\n",
       "      <th>height</th>\n",
       "      <th>x</th>\n",
       "      <th>y</th>\n",
       "      <th>box_width</th>\n",
       "      <th>box_height</th>\n",
       "    </tr>\n",
       "  </thead>\n",
       "  <tbody>\n",
       "    <tr>\n",
       "      <th>0</th>\n",
       "      <td>2.jpg</td>\n",
       "      <td>100</td>\n",
       "      <td>100</td>\n",
       "      <td>5</td>\n",
       "      <td>14</td>\n",
       "      <td>54</td>\n",
       "      <td>86</td>\n",
       "    </tr>\n",
       "    <tr>\n",
       "      <th>1</th>\n",
       "      <td>3.jpg</td>\n",
       "      <td>183</td>\n",
       "      <td>234</td>\n",
       "      <td>22</td>\n",
       "      <td>6</td>\n",
       "      <td>150</td>\n",
       "      <td>223</td>\n",
       "    </tr>\n",
       "    <tr>\n",
       "      <th>2</th>\n",
       "      <td>4.jpg</td>\n",
       "      <td>231</td>\n",
       "      <td>218</td>\n",
       "      <td>47</td>\n",
       "      <td>13</td>\n",
       "      <td>153</td>\n",
       "      <td>189</td>\n",
       "    </tr>\n",
       "    <tr>\n",
       "      <th>3</th>\n",
       "      <td>5.jpg</td>\n",
       "      <td>100</td>\n",
       "      <td>100</td>\n",
       "      <td>59</td>\n",
       "      <td>2</td>\n",
       "      <td>39</td>\n",
       "      <td>97</td>\n",
       "    </tr>\n",
       "    <tr>\n",
       "      <th>4</th>\n",
       "      <td>6.jpg</td>\n",
       "      <td>259</td>\n",
       "      <td>194</td>\n",
       "      <td>46</td>\n",
       "      <td>10</td>\n",
       "      <td>207</td>\n",
       "      <td>179</td>\n",
       "    </tr>\n",
       "  </tbody>\n",
       "</table>\n",
       "</div>"
      ],
      "text/plain": [
       "  file_name  width  height   x   y  box_width  box_height\n",
       "0     2.jpg    100     100   5  14         54          86\n",
       "1     3.jpg    183     234  22   6        150         223\n",
       "2     4.jpg    231     218  47  13        153         189\n",
       "3     5.jpg    100     100  59   2         39          97\n",
       "4     6.jpg    259     194  46  10        207         179"
      ]
     },
     "execution_count": 7,
     "metadata": {},
     "output_type": "execute_result"
    }
   ],
   "source": [
    "BBox_df.head()"
   ]
  },
  {
   "cell_type": "code",
   "execution_count": 8,
   "metadata": {
    "ExecuteTime": {
     "end_time": "2020-04-19T15:09:39.251456Z",
     "start_time": "2020-04-19T15:09:39.241444Z"
    }
   },
   "outputs": [],
   "source": [
    "#Normalize the Box Dimensions based on Image Height and Width\n",
    "BBox_df['x'] = BBox_df['x'] / BBox_df['width']\n",
    "BBox_df['y'] = BBox_df['y'] / BBox_df['height']\n",
    "BBox_df['box_width'] = BBox_df['box_width'] / BBox_df['width']\n",
    "BBox_df['box_height'] = BBox_df['box_height'] / BBox_df['height']"
   ]
  },
  {
   "cell_type": "code",
   "execution_count": 9,
   "metadata": {
    "ExecuteTime": {
     "end_time": "2020-04-19T15:09:39.433928Z",
     "start_time": "2020-04-19T15:09:39.427944Z"
    }
   },
   "outputs": [
    {
     "data": {
      "text/plain": [
       "(57, 2)"
      ]
     },
     "execution_count": 9,
     "metadata": {},
     "output_type": "execute_result"
    }
   ],
   "source": [
    "hw_array = BBox_df[[\"box_width\", \"box_height\"]].to_numpy()\n",
    "hw_array.shape"
   ]
  },
  {
   "cell_type": "code",
   "execution_count": 10,
   "metadata": {
    "ExecuteTime": {
     "end_time": "2020-04-19T15:09:39.842834Z",
     "start_time": "2020-04-19T15:09:39.628409Z"
    },
    "scrolled": true
   },
   "outputs": [
    {
     "data": {
      "text/plain": [
       "<matplotlib.collections.PathCollection at 0x251e9ed9ac8>"
      ]
     },
     "execution_count": 10,
     "metadata": {},
     "output_type": "execute_result"
    },
    {
     "data": {
      "image/png": "[encoded data removed]",
      "text/plain": [
       "<Figure size 432x288 with 1 Axes>"
      ]
     },
     "metadata": {
      "needs_background": "light"
     },
     "output_type": "display_data"
    }
   ],
   "source": [
    "plt.scatter(hw_array[:,0], hw_array[:,1])"
   ]
  },
  {
   "cell_type": "code",
   "execution_count": 11,
   "metadata": {
    "ExecuteTime": {
     "end_time": "2020-04-19T15:09:40.547994Z",
     "start_time": "2020-04-19T15:09:40.196889Z"
    }
   },
   "outputs": [
    {
     "data": {
      "image/png": "[encoded data removed]",
      "text/plain": [
       "<Figure size 432x288 with 1 Axes>"
      ]
     },
     "metadata": {
      "needs_background": "light"
     },
     "output_type": "display_data"
    }
   ],
   "source": [
    "#Elbow Method\n",
    "#Determine the optimal number of clusters\n",
    "\n",
    "wcss = []\n",
    "for i in range(1, 11):\n",
    "    kmeans = KMeans(n_clusters=i, init='k-means++', max_iter=300, n_init=10, random_state=0)\n",
    "    kmeans.fit(hw_array)\n",
    "    wcss.append(kmeans.inertia_)\n",
    "plt.plot(range(1, 11), wcss)\n",
    "plt.title('Elbow Method')\n",
    "plt.xlabel('Number of clusters')\n",
    "plt.ylabel('WCSS')\n",
    "plt.show()"
   ]
  },
  {
   "cell_type": "code",
   "execution_count": 12,
   "metadata": {
    "ExecuteTime": {
     "end_time": "2020-04-19T15:09:40.694590Z",
     "start_time": "2020-04-19T15:09:40.664640Z"
    }
   },
   "outputs": [],
   "source": [
    "# find cluster centers for selected number of clusters\n",
    "kmeans = KMeans(n_clusters=5, init='k-means++', max_iter=300, n_init=10, random_state=0)\n",
    "pred_y = kmeans.fit_predict(hw_array)"
   ]
  },
  {
   "cell_type": "code",
   "execution_count": 13,
   "metadata": {
    "ExecuteTime": {
     "end_time": "2020-04-19T15:09:41.059580Z",
     "start_time": "2020-04-19T15:09:41.053598Z"
    }
   },
   "outputs": [
    {
     "data": {
      "text/plain": [
       "array([[0.53625708, 0.93315151],\n",
       "       [0.89724256, 0.92583085],\n",
       "       [0.91102838, 0.67885552],\n",
       "       [0.40138336, 0.75517773],\n",
       "       [0.73277736, 0.90494992]])"
      ]
     },
     "execution_count": 13,
     "metadata": {},
     "output_type": "execute_result"
    }
   ],
   "source": [
    "# Cluster centers\n",
    "kmeans.cluster_centers_"
   ]
  },
  {
   "cell_type": "code",
   "execution_count": 14,
   "metadata": {
    "ExecuteTime": {
     "end_time": "2020-04-19T15:09:41.584177Z",
     "start_time": "2020-04-19T15:09:41.461506Z"
    }
   },
   "outputs": [
    {
     "data": {
      "image/png": "[encoded data removed]",
      "text/plain": [
       "<Figure size 432x288 with 1 Axes>"
      ]
     },
     "metadata": {
      "needs_background": "light"
     },
     "output_type": "display_data"
    }
   ],
   "source": [
    "plt.scatter(hw_array[:,0], hw_array[:,1])\n",
    "plt.scatter(kmeans.cluster_centers_[:, 0], kmeans.cluster_centers_[:, 1], s=300, c='red')\n",
    "plt.show()"
   ]
  },
  {
   "cell_type": "code",
   "execution_count": null,
   "metadata": {},
   "outputs": [],
   "source": []
  },
  {
   "cell_type": "code",
   "execution_count": null,
   "metadata": {},
   "outputs": [],
   "source": []
  }
 ],
 "metadata": {
  "kernelspec": {
   "display_name": "Python 3.6.10 64-bit ('tf_gpu': conda)",
   "language": "python",
   "name": "python361064bittfgpucondacca2d98054a2467483838f13e7ec1fd4"
  },
  "language_info": {
   "codemirror_mode": {
    "name": "ipython",
    "version": 3
   },
   "file_extension": ".py",
   "mimetype": "text/x-python",
   "name": "python",
   "nbconvert_exporter": "python",
   "pygments_lexer": "ipython3",
   "version": "3.6.10"
  },
  "toc": {
   "base_numbering": 1,
   "nav_menu": {},
   "number_sections": true,
   "sideBar": true,
   "skip_h1_title": false,
   "title_cell": "Table of Contents",
   "title_sidebar": "Contents",
   "toc_cell": false,
   "toc_position": {},
   "toc_section_display": true,
   "toc_window_display": false
  },
  "varInspector": {
   "cols": {
    "lenName": 16,
    "lenType": 16,
    "lenVar": 40
   },
   "kernels_config": {
    "python": {
     "delete_cmd_postfix": "",
     "delete_cmd_prefix": "del ",
     "library": "var_list.py",
     "varRefreshCmd": "print(var_dic_list())"
    },
    "r": {
     "delete_cmd_postfix": ") ",
     "delete_cmd_prefix": "rm(",
     "library": "var_list.r",
     "varRefreshCmd": "cat(var_dic_list()) "
    }
   },
   "types_to_exclude": [
    "module",
    "function",
    "builtin_function_or_method",
    "instance",
    "_Feature"
   ],
   "window_display": false
  }
 },
 "nbformat": 4,
 "nbformat_minor": 4
}
